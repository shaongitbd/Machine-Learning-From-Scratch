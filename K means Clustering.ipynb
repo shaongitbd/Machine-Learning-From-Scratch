{
 "cells": [
  {
   "cell_type": "code",
   "execution_count": 419,
   "metadata": {},
   "outputs": [],
   "source": [
    "import numpy as np\n",
    "from sklearn.datasets import make_blobs\n",
    "import matplotlib.pyplot as plt\n"
   ]
  },
  {
   "cell_type": "code",
   "execution_count": 728,
   "metadata": {},
   "outputs": [
    {
     "ename": "SyntaxError",
     "evalue": "invalid syntax. Perhaps you forgot a comma? (2343371904.py, line 1)",
     "output_type": "error",
     "traceback": [
      "\u001b[1;36m  Cell \u001b[1;32mIn[728], line 1\u001b[1;36m\u001b[0m\n\u001b[1;33m    x, y= make_blobs(n_samples=1000, centers=5, n_features=4\u001b[0m\n\u001b[1;37m                                                           ^\u001b[0m\n\u001b[1;31mSyntaxError\u001b[0m\u001b[1;31m:\u001b[0m invalid syntax. Perhaps you forgot a comma?\n"
     ]
    }
   ],
   "source": [
    "x, y= make_blobs(n_samples=1000, centers=5, n_features=4,\n",
    "                       cluster_std=0.20, random_state=20)\n",
    "plt.scatter(x[:, 0], x[:, 1]);"
   ]
  },
  {
   "cell_type": "code",
   "execution_count": 700,
   "metadata": {},
   "outputs": [],
   "source": [
    "def cal_centroid(x,centroid , k ,distance, curr_map):\n",
    "    \n",
    "\n",
    "    for i in range(0,k):\n",
    "\n",
    "      distance[:, i] =  np.sum(((x-centroid[i])**2), axis=1).T\n",
    "      \n",
    "\n",
    "    for i in range(0,len(curr_map)):\n",
    "    \n",
    "     min_index = np.argmin(distance[i])\n",
    "     curr_map[i] = min_index\n",
    "\n",
    "    for i in range(0, k):\n",
    "  \n",
    "      group = np.where(curr_map==i)\n",
    "      \n",
    "      \n",
    "      group_mean = np.mean(x[group],axis=0)\n",
    "      \n",
    "\n",
    "      centroid[i] = group_mean\n",
    "\n",
    "    return x, centroid,k, distance, curr_map \n",
    "\n"
   ]
  },
  {
   "cell_type": "code",
   "execution_count": 720,
   "metadata": {},
   "outputs": [],
   "source": [
    "def K_means(x,k, iterations):\n",
    "    n = len(x)\n",
    "    centroid = x[np.random.randint(n, size=k),:]\n",
    "    distance = np.zeros((n, k))\n",
    "  \n",
    "    curr_map = np.zeros(n)\n",
    "\n",
    "    steps = 0\n",
    "    \n",
    "    while (steps <iterations) :\n",
    "       x,centroid,k,distance,curr_map  =  cal_centroid(x,centroid,k,distance, curr_map)\n",
    "       steps +=1\n",
    "    \n",
    "    \n",
    "    return curr_map,centroid, steps\n",
    "    "
   ]
  },
  {
   "cell_type": "code",
   "execution_count": 724,
   "metadata": {},
   "outputs": [],
   "source": [
    "y, centroid, steps = K_means(x, k=5, iterations=100) "
   ]
  },
  {
   "cell_type": "code",
   "execution_count": 725,
   "metadata": {},
   "outputs": [
    {
     "data": {
      "image/png": "[encoded data removed]",
      "text/plain": [
       "<Figure size 640x480 with 1 Axes>"
      ]
     },
     "metadata": {},
     "output_type": "display_data"
    }
   ],
   "source": [
    "plt.scatter(x[:, 0], x[:, 1]);\n",
    "plt.scatter(centroid[:, 0], centroid[:, 1], c='red');"
   ]
  },
  {
   "cell_type": "code",
   "execution_count": 727,
   "metadata": {},
   "outputs": [
    {
     "data": {
      "text/plain": [
       "(array([[-9.26688923,  3.82883924],\n",
       "        [-2.42434033,  0.36557513],\n",
       "        [ 1.76806049,  7.9651442 ],\n",
       "        [ 3.13195597, -6.10391358],\n",
       "        [ 7.79002885,  6.3333059 ]]),\n",
       " 100)"
      ]
     },
     "execution_count": 727,
     "metadata": {},
     "output_type": "execute_result"
    }
   ],
   "source": [
    "centroid, steps"
   ]
  }
 ],
 "metadata": {
  "kernelspec": {
   "display_name": "Python 3",
   "language": "python",
   "name": "python3"
  },
  "language_info": {
   "codemirror_mode": {
    "name": "ipython",
    "version": 3
   },
   "file_extension": ".py",
   "mimetype": "text/x-python",
   "name": "python",
   "nbconvert_exporter": "python",
   "pygments_lexer": "ipython3",
   "version": "3.11.3"
  }
 },
 "nbformat": 4,
 "nbformat_minor": 2
}
