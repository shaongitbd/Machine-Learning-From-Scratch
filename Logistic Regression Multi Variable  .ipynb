{
 "cells": [
  {
   "cell_type": "code",
   "execution_count": 1,
   "metadata": {},
   "outputs": [],
   "source": [
    "import numpy as np\n",
    "import math"
   ]
  },
  {
   "cell_type": "code",
   "execution_count": 20,
   "metadata": {},
   "outputs": [],
   "source": [
    "\n",
    "# Give your input for x and y values\n",
    "# For better testing I have taken the inputs(x and y values), total number of iterations, alpha value from coursera machine learning course. \n",
    "\n",
    "\n",
    "\n",
    "x = np.array([[2104, 5, 1, 45], [1416, 3, 2, 40], [852, 2, 1, 35]])\n",
    "y = np.array([460, 232, 178])\n",
    "\n",
    "m = len(y)\n",
    "n = len(x[0])\n",
    "\n",
    "# initializing weights and bias as 0\n",
    "\n",
    "w = np.zeros(x.shape[1])\n",
    "b = 0\n",
    "\n",
    "# Total numbers of iterations to perform\n",
    "\n",
    "iteration = 50\n",
    "\n",
    "# Learning rate alpha\n",
    "\n",
    "alpha = 0.0000003"
   ]
  },
  {
   "cell_type": "code",
   "execution_count": 3,
   "metadata": {},
   "outputs": [],
   "source": [
    "# Our  linear Regression Model\n",
    "\n",
    "def model(x,w,b):\n",
    "    return np.dot(x,np.transpose(w))+b"
   ]
  },
  {
   "cell_type": "code",
   "execution_count": 17,
   "metadata": {},
   "outputs": [],
   "source": [
    "def cost_function():\n",
    "    cost=0\n",
    "    for idx in range(m):\n",
    "        cost += (model(x[idx],w,b) - y[idx])**2\n",
    "\n",
    "\n",
    "    return cost/(2*m)\n",
    "    "
   ]
  },
  {
   "cell_type": "code",
   "execution_count": 5,
   "metadata": {},
   "outputs": [],
   "source": [
    "def update_b(w,b):\n",
    "    value = 0 \n",
    "    for i in range(m):\n",
    "            value += (model(x[i],w,b) - y[i])\n",
    "\n",
    "    return value"
   ]
  },
  {
   "cell_type": "code",
   "execution_count": 21,
   "metadata": {},
   "outputs": [],
   "source": [
    "def gradient_decent():\n",
    "    global b\n",
    "    global w\n",
    "\n",
    "    for i in range(iteration):\n",
    "        tempw = w\n",
    "   \n",
    "  \n",
    "        for j in range(n):\n",
    "\n",
    "            derivative_val_w = 0 \n",
    "\n",
    "            for k in range(m):\n",
    "           \n",
    "           \n",
    "            \n",
    "              derivative_val_w += (model(x[k],tempw,b) - y[k])*x[k][j]\n",
    "            \n",
    "\n",
    "            w[j] = w[j] - alpha*(derivative_val_w/m)\n",
    "            \n",
    "        \n",
    "        tempb = b \n",
    "        b = tempb - alpha *((update_b(tempw,tempb))/m)\n",
    "        if i% math.ceil(iteration / 10) == 0:\n",
    "        \n",
    "          print(f\" iterations:  \" +str(i) + f\" cost : {cost_function():0.2f}\")\n",
    "      \n",
    "        "
   ]
  },
  {
   "cell_type": "code",
   "execution_count": 15,
   "metadata": {},
   "outputs": [],
   "source": [
    "def gradient_decent_b():\n",
    "    global b\n",
    "    global w\n",
    "    for k in range(iteration):\n",
    "        dj_dw = np.zeros((n,))\n",
    "        dj_db = 0.\n",
    "\n",
    "        for i in range(m):                             \n",
    "          err = (np.dot(x[i], w) + b) - y[i]   \n",
    "          for j in range(n):                         \n",
    "            dj_dw[j] = dj_dw[j] + err * x[i, j]    \n",
    "          dj_db = dj_db + err                  \n",
    "\n",
    "        dj_dw = dj_dw / m                                \n",
    "        dj_db = dj_db / m  \n",
    "        w = w - alpha * dj_dw               ##None\n",
    "        b = b - alpha * dj_db               ##None\n",
    "      \n",
    "\n",
    "        # Print cost every at intervals 10 times or as many iterations if < 10\n",
    "        if k% math.ceil(iteration / 10) == 0:\n",
    "            print(f\"Iteration {k:4d}: Cost {cost_function():8.2f}   \")"
   ]
  },
  {
   "cell_type": "code",
   "execution_count": 22,
   "metadata": {},
   "outputs": [
    {
     "name": "stdout",
     "output_type": "stream",
     "text": [
      " iterations:  0 cost : 4636.91\n",
      " iterations:  5 cost : 696.52\n",
      " iterations:  10 cost : 696.48\n",
      " iterations:  15 cost : 696.44\n",
      " iterations:  20 cost : 696.41\n",
      " iterations:  25 cost : 696.38\n",
      " iterations:  30 cost : 696.35\n",
      " iterations:  35 cost : 696.32\n",
      " iterations:  40 cost : 696.28\n",
      " iterations:  45 cost : 696.25\n"
     ]
    }
   ],
   "source": [
    "gradient_decent()"
   ]
  },
  {
   "cell_type": "code",
   "execution_count": 19,
   "metadata": {},
   "outputs": [
    {
     "name": "stdout",
     "output_type": "stream",
     "text": [
      "Iteration    0: Cost  4628.11   \n",
      "Iteration    5: Cost   697.05   \n",
      "Iteration   10: Cost   697.01   \n",
      "Iteration   15: Cost   696.98   \n",
      "Iteration   20: Cost   696.94   \n",
      "Iteration   25: Cost   696.91   \n",
      "Iteration   30: Cost   696.88   \n",
      "Iteration   35: Cost   696.85   \n",
      "Iteration   40: Cost   696.81   \n",
      "Iteration   45: Cost   696.78   \n"
     ]
    }
   ],
   "source": [
    "gradient_decent_b()"
   ]
  },
  {
   "cell_type": "code",
   "execution_count": 610,
   "metadata": {
    "tags": []
   },
   "outputs": [
    {
     "ename": "SyntaxError",
     "evalue": "invalid syntax (2375481496.py, line 4)",
     "output_type": "error",
     "traceback": [
      "\u001b[1;36m  Cell \u001b[1;32mIn[610], line 4\u001b[1;36m\u001b[0m\n\u001b[1;33m    Iteration    0: Cost  2529.46\u001b[0m\n\u001b[1;37m                 ^\u001b[0m\n\u001b[1;31mSyntaxError\u001b[0m\u001b[1;31m:\u001b[0m invalid syntax\n"
     ]
    }
   ],
   "source": [
    "# Coursera's results \n",
    "\n",
    "\n",
    "Iteration    0: Cost  2529.46   \n",
    "Iteration  100: Cost   695.99   \n",
    "Iteration  200: Cost   694.92   \n",
    "Iteration  300: Cost   693.86   \n",
    "Iteration  400: Cost   692.81   \n",
    "Iteration  500: Cost   691.77   \n",
    "Iteration  600: Cost   690.73   \n",
    "Iteration  700: Cost   689.71   \n",
    "Iteration  800: Cost   688.70   \n",
    "Iteration  900: Cost   687.69\n",
    "\n",
    "# Our Results \n",
    " iterations:  0 cost : 2511.04\n",
    " iterations:  100 cost : 695.11\n",
    " iterations:  200 cost : 694.05\n",
    " iterations:  300 cost : 693.00\n",
    " iterations:  400 cost : 691.95\n",
    " iterations:  500 cost : 690.92\n",
    " iterations:  600 cost : 689.89\n",
    " iterations:  700 cost : 688.87\n",
    " iterations:  800 cost : 687.87\n",
    " iterations:  900 cost : 686.87\n",
    "\n"
   ]
  },
  {
   "cell_type": "code",
   "execution_count": null,
   "metadata": {},
   "outputs": [],
   "source": [
    "# Testing it against Sklearns Linear Regression Model"
   ]
  },
  {
   "cell_type": "code",
   "execution_count": 611,
   "metadata": {},
   "outputs": [
    {
     "name": "stdout",
     "output_type": "stream",
     "text": [
      "[  0.39133535  18.75376741 -53.36032453 -26.42131618]\n",
      "[ 0.24027193  0.17700315 -0.54235211 -1.49822094]\n"
     ]
    }
   ],
   "source": [
    "from sklearn.linear_model import LinearRegression \n",
    "reg = LinearRegression().fit(x, y)\n",
    "print(reg.coef_)\n",
    "print(w)"
   ]
  },
  {
   "cell_type": "code",
   "execution_count": 612,
   "metadata": {},
   "outputs": [
    {
     "name": "stdout",
     "output_type": "stream",
     "text": [
      "152.04121311667325\n",
      "178\n",
      "[178.]\n"
     ]
    }
   ],
   "source": [
    "print(model(x[2],w,b))\n",
    "print(y[2])\n",
    "print(reg.predict([x[2]]))"
   ]
  },
  {
   "cell_type": "code",
   "execution_count": 500,
   "metadata": {},
   "outputs": [
    {
     "name": "stdout",
     "output_type": "stream",
     "text": [
      "-0.0023755406273586505 [ 0.20411809  0.00319058 -0.01144328 -0.07182288]\n"
     ]
    }
   ],
   "source": [
    "print(b,w)"
   ]
  }
 ],
 "metadata": {
  "kernelspec": {
   "display_name": "Python 3",
   "language": "python",
   "name": "python3"
  },
  "language_info": {
   "codemirror_mode": {
    "name": "ipython",
    "version": 3
   },
   "file_extension": ".py",
   "mimetype": "text/x-python",
   "name": "python",
   "nbconvert_exporter": "python",
   "pygments_lexer": "ipython3",
   "version": "3.11.3"
  },
  "orig_nbformat": 4
 },
 "nbformat": 4,
 "nbformat_minor": 2
}
