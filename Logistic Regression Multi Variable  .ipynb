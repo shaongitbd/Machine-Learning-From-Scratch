{
 "cells": [
  {
   "cell_type": "code",
   "execution_count": 8,
   "metadata": {},
   "outputs": [],
   "source": [
    "import numpy as np\n",
    "import math"
   ]
  },
  {
   "cell_type": "code",
   "execution_count": 98,
   "metadata": {},
   "outputs": [],
   "source": [
    "\n",
    "# Give your input for x and y values\n",
    "\n",
    "\n",
    "from sklearn import datasets\n",
    "from sklearn import linear_model\n",
    "from sklearn.datasets import load_iris\n",
    "x, y = load_iris(return_X_y = True)\n",
    "\n",
    "m = len(y)\n",
    "n = len(x[0])\n",
    "\n",
    "# initializing weights and bias as 0\n",
    "\n",
    "w = np.zeros(x.shape[1])\n",
    "b = 0\n",
    "\n",
    "# Total numbers of iterations to perform\n",
    "\n",
    "iteration = 100\n",
    "\n",
    "# Learning rate alpha\n",
    "\n",
    "alpha = 0.001"
   ]
  },
  {
   "cell_type": "code",
   "execution_count": 4,
   "metadata": {},
   "outputs": [
    {
     "name": "stdout",
     "output_type": "stream",
     "text": [
      "[4.9 3.  1.4 0.2] 0 150 4\n"
     ]
    }
   ],
   "source": [
    "print(x[1], y[1], m,n)"
   ]
  },
  {
   "cell_type": "code",
   "execution_count": 33,
   "metadata": {},
   "outputs": [],
   "source": [
    "# Defining Our Logistic Regression Model\n",
    "\n",
    "def model(x,w,b):\n",
    "    LinReg = np.dot(x,np.transpose(w))+b\n",
    "    return 1/(1+np.exp(-LinReg))"
   ]
  },
  {
   "cell_type": "code",
   "execution_count": 11,
   "metadata": {},
   "outputs": [],
   "source": [
    "# Defining Our Cost Function \n",
    "\n",
    "def cost_function():\n",
    "    value = 0\n",
    "    for i in range(m):\n",
    "        value += -y[i] * np.log(model(x[i], w,b)) - (1-y[i]) * np.log(1-(model(x[i],w,b)))\n",
    "    \n",
    "    return value/(2*m)"
   ]
  },
  {
   "cell_type": "code",
   "execution_count": 12,
   "metadata": {},
   "outputs": [],
   "source": [
    "def update_b(w,b):\n",
    "    value = 0 \n",
    "    for i in range(m):\n",
    "            value += (model(x[i],w,b) - y[i])\n",
    "\n",
    "    return value"
   ]
  },
  {
   "cell_type": "code",
   "execution_count": 99,
   "metadata": {},
   "outputs": [],
   "source": [
    "# Gradient Descent is same as MultiVariable Linear Regression. \n",
    "\n",
    "def gradient_decent():\n",
    "    global b\n",
    "    global w\n",
    "\n",
    "    for i in range(iteration):\n",
    "        tempw = w\n",
    "   \n",
    "  \n",
    "        for j in range(n):\n",
    "\n",
    "            derivative_val_w = 0 \n",
    "\n",
    "            for k in range(m):\n",
    "           \n",
    "           \n",
    "            \n",
    "              derivative_val_w += (model(x[k],w,b) - y[k])*x[k][j]\n",
    "\n",
    "            w[j] = w[j] - alpha*(derivative_val_w/m)\n",
    "            \n",
    "        \n",
    "        tempb = b \n",
    "        b = tempb - alpha *((update_b(tempw,tempb))/m)\n",
    "        if i% math.ceil(iteration / 10) == 0:\n",
    "        \n",
    "          print(f\" iterations:  \" +str(i) + f\" cost : {cost_function():8.2f}\")"
   ]
  },
  {
   "cell_type": "code",
   "execution_count": 100,
   "metadata": {},
   "outputs": [
    {
     "name": "stdout",
     "output_type": "stream",
     "text": [
      " iterations:  0 cost :     0.67\n",
      " iterations:  10 cost :     0.45\n",
      " iterations:  20 cost :     0.28\n",
      " iterations:  30 cost :     0.16\n",
      " iterations:  40 cost :     0.05\n",
      " iterations:  50 cost :    -0.03\n",
      " iterations:  60 cost :    -0.10\n",
      " iterations:  70 cost :    -0.17\n",
      " iterations:  80 cost :    -0.23\n",
      " iterations:  90 cost :    -0.28\n",
      "[0.18919137 0.05816237 0.21744632 0.084229  ]\n"
     ]
    }
   ],
   "source": [
    "\n",
    "gradient_decent()\n",
    "print(w)\n"
   ]
  },
  {
   "cell_type": "code",
   "execution_count": 32,
   "metadata": {},
   "outputs": [
    {
     "data": {
      "text/plain": [
       "0.96"
      ]
     },
     "execution_count": 32,
     "metadata": {},
     "output_type": "execute_result"
    }
   ],
   "source": [
    "LRG = linear_model.LogisticRegression(\n",
    "   random_state = 0,solver = 'liblinear',multi_class = 'auto'\n",
    ").fit(x, y)\n",
    "LRG.score(x, y)"
   ]
  },
  {
   "cell_type": "code",
   "execution_count": 111,
   "metadata": {},
   "outputs": [
    {
     "name": "stdout",
     "output_type": "stream",
     "text": [
      "1\n",
      "[0]\n",
      "0\n"
     ]
    }
   ],
   "source": [
    "proba= (model(x[5],w,b))\n",
    "if proba< 0.50:\n",
    "    print(0)\n",
    "else:\n",
    "    print(1)\n",
    "print(LRG.predict([x[5]]))\n",
    "print(y[5])"
   ]
  }
 ],
 "metadata": {
  "kernelspec": {
   "display_name": "Python 3",
   "language": "python",
   "name": "python3"
  },
  "language_info": {
   "codemirror_mode": {
    "name": "ipython",
    "version": 3
   },
   "file_extension": ".py",
   "mimetype": "text/x-python",
   "name": "python",
   "nbconvert_exporter": "python",
   "pygments_lexer": "ipython3",
   "version": "3.11.3"
  },
  "orig_nbformat": 4
 },
 "nbformat": 4,
 "nbformat_minor": 2
}
