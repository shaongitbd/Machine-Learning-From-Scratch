{
 "cells": [
  {
   "cell_type": "code",
   "execution_count": 1,
   "metadata": {},
   "outputs": [],
   "source": [
    "import numpy as np\n",
    "from sklearn.datasets import load_iris\n",
    "from sklearn.model_selection import train_test_split\n",
    "from operator import itemgetter\n"
   ]
  },
  {
   "cell_type": "code",
   "execution_count": 2,
   "metadata": {},
   "outputs": [],
   "source": [
    "\n",
    "# Give your input for x and y values\n",
    "\n",
    "x, y = load_iris(return_X_y = True)\n",
    "\n",
    "m = len(y)\n",
    "n = len(x[0])\n",
    "\n",
    "x_train, x_test, y_train, y_test = train_test_split( x, y, test_size=0.20, random_state=4)\n",
    "categories=np.unique(y_train)\n",
    "\n",
    "\n"
   ]
  },
  {
   "cell_type": "code",
   "execution_count": 3,
   "metadata": {},
   "outputs": [],
   "source": [
    "def KNN(x_train, y_train, x_single,k_val):\n",
    "    k = k_val\n",
    "    distance = (x_single-x_train)**2\n",
    "    distance = distance.sum(axis=1)\n",
    "    distance=np.sqrt(distance)\n",
    "    shorted_distance = np.argsort(distance, axis=0)\n",
    "    nearest_values = np.zeros(k)\n",
    "\n",
    "    for i in range(k):\n",
    "       nearest_values[i] = y_train[shorted_distance[i]]\n",
    "\n",
    "    found_categories, categories_counts = np.unique(nearest_values, return_counts=True)\n",
    "    max_category_index = np.argmax(categories_counts)\n",
    "\n",
    "    max_category = found_categories[max_category_index]\n",
    "    \n",
    "    return max_category"
   ]
  },
  {
   "cell_type": "code",
   "execution_count": 4,
   "metadata": {},
   "outputs": [],
   "source": [
    "def performance_test(x_train,y_train, x_test,y_test):\n",
    "\n",
    "    valid =  0\n",
    "    for idx, i in enumerate(x_test):\n",
    "        \n",
    "        y_pred = KNN(x_train, y_train,i, k_val=10) \n",
    "        y_truth = y_test[idx]\n",
    "\n",
    "        if(y_pred==y_truth):\n",
    "            valid +=1\n",
    "    \n",
    "    accuracy = (valid/len(x_test))*100\n",
    "    return accuracy\n"
   ]
  },
  {
   "cell_type": "code",
   "execution_count": 6,
   "metadata": {},
   "outputs": [
    {
     "name": "stdout",
     "output_type": "stream",
     "text": [
      "Our Models Accuracy : 96.66666666666667\n"
     ]
    }
   ],
   "source": [
    "print(\"Our Models Accuracy : \"+str(performance_test(x_train,y_train, x_test,y_test)))"
   ]
  }
 ],
 "metadata": {
  "kernelspec": {
   "display_name": "Python 3",
   "language": "python",
   "name": "python3"
  },
  "language_info": {
   "codemirror_mode": {
    "name": "ipython",
    "version": 3
   },
   "file_extension": ".py",
   "mimetype": "text/x-python",
   "name": "python",
   "nbconvert_exporter": "python",
   "pygments_lexer": "ipython3",
   "version": "3.11.3"
  },
  "orig_nbformat": 4
 },
 "nbformat": 4,
 "nbformat_minor": 2
}
